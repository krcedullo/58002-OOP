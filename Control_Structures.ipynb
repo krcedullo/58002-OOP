{
  "nbformat": 4,
  "nbformat_minor": 0,
  "metadata": {
    "colab": {
      "provenance": [],
      "authorship_tag": "ABX9TyM2de+NZz8x1G0WJ3S4r5bX",
      "include_colab_link": true
    },
    "kernelspec": {
      "name": "python3",
      "display_name": "Python 3"
    },
    "language_info": {
      "name": "python"
    }
  },
  "cells": [
    {
      "cell_type": "markdown",
      "metadata": {
        "id": "view-in-github",
        "colab_type": "text"
      },
      "source": [
        "<a href=\"https://colab.research.google.com/github/russellcedullo/58002-OOP/blob/main/Control_Structures.ipynb\" target=\"_parent\"><img src=\"https://colab.research.google.com/assets/colab-badge.svg\" alt=\"Open In Colab\"/></a>"
      ]
    },
    {
      "cell_type": "markdown",
      "source": [
        "#If statement"
      ],
      "metadata": {
        "id": "xp15BhQLjq_n"
      }
    },
    {
      "cell_type": "code",
      "source": [
        "#example\n",
        "a = 12\n",
        "b = 100 \n",
        "b > a\n",
        "\n",
        "print(\"B is greater than a\")"
      ],
      "metadata": {
        "colab": {
          "base_uri": "https://localhost:8080/"
        },
        "id": "AWnYA6hPjsx4",
        "outputId": "3fbbfbaf-5a01-4da1-ead2-64819d3710f0"
      },
      "execution_count": 15,
      "outputs": [
        {
          "output_type": "stream",
          "name": "stdout",
          "text": [
            "B is greater than a\n"
          ]
        }
      ]
    },
    {
      "cell_type": "markdown",
      "source": [
        "#elif statements"
      ],
      "metadata": {
        "id": "bavSKPeejx3I"
      }
    },
    {
      "cell_type": "code",
      "source": [
        "# Example\n",
        "a = 200 \n",
        "b = 33\n",
        "if b > a:\n",
        "  print(\"b is greater than a\")\n",
        "elif a < b:\n",
        "  print(\"a is less than b\")\n"
      ],
      "metadata": {
        "id": "pKSisb0llays"
      },
      "execution_count": 13,
      "outputs": []
    },
    {
      "cell_type": "markdown",
      "source": [
        "#else statements\n"
      ],
      "metadata": {
        "id": "3dWpg7dvj5Po"
      }
    },
    {
      "cell_type": "code",
      "source": [
        "# Example\n",
        "a = 200 \n",
        "b = 33\n",
        "if a > b:\n",
        "  print(\"a is greater than b\")\n",
        "elif a < b:\n",
        "  print(\"a is less than b\")\n",
        "else:\n",
        "  print(\"a is equal to b\")"
      ],
      "metadata": {
        "colab": {
          "base_uri": "https://localhost:8080/"
        },
        "id": "DBQxOujMj6iH",
        "outputId": "9cc7bb7c-f318-443b-d2ba-cfcb29017f05"
      },
      "execution_count": 14,
      "outputs": [
        {
          "output_type": "stream",
          "name": "stdout",
          "text": [
            "a is greater than b\n"
          ]
        }
      ]
    },
    {
      "cell_type": "markdown",
      "source": [
        "#for shorthand if"
      ],
      "metadata": {
        "id": "OjGuabxXmME6"
      }
    },
    {
      "cell_type": "code",
      "source": [
        "if a==b: print(\"a is equal to b\")\n"
      ],
      "metadata": {
        "id": "KxlmR4sdmR3s"
      },
      "execution_count": 20,
      "outputs": []
    },
    {
      "cell_type": "markdown",
      "source": [
        "#shorthand if else"
      ],
      "metadata": {
        "id": "j2qa-JbzmstT"
      }
    },
    {
      "cell_type": "code",
      "source": [
        "print(\"a is greater than b\") if a>b else print(\"a is equal to b\")"
      ],
      "metadata": {
        "colab": {
          "base_uri": "https://localhost:8080/"
        },
        "id": "itEUupW8mvOE",
        "outputId": "e214d6b3-3079-47d1-add3-799de9f8f721"
      },
      "execution_count": 24,
      "outputs": [
        {
          "output_type": "stream",
          "name": "stdout",
          "text": [
            "a is greater than b\n"
          ]
        }
      ]
    },
    {
      "cell_type": "markdown",
      "source": [
        "# if both conditions are true"
      ],
      "metadata": {
        "id": "lLQ2IUd8m9Cj"
      }
    },
    {
      "cell_type": "code",
      "source": [
        "a = 200  \n",
        "b = 33 \n",
        "c = 500\n",
        "if a > b or a > c:\n",
        "  print(\"Both conditions are true\")\n"
      ],
      "metadata": {
        "colab": {
          "base_uri": "https://localhost:8080/"
        },
        "id": "bR1HLMavnATr",
        "outputId": "322e54ae-ef2b-4eeb-9c30-ba1b6a8b5ed7"
      },
      "execution_count": 21,
      "outputs": [
        {
          "output_type": "stream",
          "name": "stdout",
          "text": [
            "Both conditions are true\n"
          ]
        }
      ]
    },
    {
      "cell_type": "markdown",
      "source": [
        "#And Condition"
      ],
      "metadata": {
        "id": "Q6I-VMfonc9D"
      }
    },
    {
      "cell_type": "code",
      "source": [
        "s = 75 \n",
        "t = 70\n",
        "if s > t and t < s:\n",
        "  print(\"s > t and t < s\")\n"
      ],
      "metadata": {
        "id": "EiSY2Wl4ngMq"
      },
      "execution_count": 22,
      "outputs": []
    },
    {
      "cell_type": "markdown",
      "source": [
        "#Or Condition"
      ],
      "metadata": {
        "id": "NXMHW6QaoDvm"
      }
    },
    {
      "cell_type": "code",
      "source": [
        "print(\"s is greater than t and t is less than s\")"
      ],
      "metadata": {
        "colab": {
          "base_uri": "https://localhost:8080/"
        },
        "id": "u5v4QH39oGZH",
        "outputId": "7ccf306d-7967-4ff4-ecd2-4828e4a2c77c"
      },
      "execution_count": 25,
      "outputs": [
        {
          "output_type": "stream",
          "name": "stdout",
          "text": [
            "s is greater than t and t is less than s\n"
          ]
        }
      ]
    },
    {
      "cell_type": "markdown",
      "source": [
        "#Nested if"
      ],
      "metadata": {
        "id": "hcf4-Vp2opW_"
      }
    },
    {
      "cell_type": "code",
      "source": [
        "x = int(int(input()))\n",
        "if x>10:\n",
        "  print(\"Above ten,\")\n",
        "  if x>20:\n",
        "   print(\"also above 20!\")\n",
        "   if x>30:\n",
        "     print(\"also above 30!\")\n",
        "     if x>40:\n",
        "       print(\"also above 40\")\n",
        "       if x>50:\n",
        "         print(\"and also above 50\")\n",
        "       else:\n",
        "         print(\"below 50\")\n",
        "     else:\n",
        "       print(\"below 40\")\n",
        "   else:\n",
        "     print(\"below 30\")   \n",
        "  else:\n",
        "    print(\"below 20\")\n",
        "else:\n",
        "    print(\"but not above 20.\")\n"
      ],
      "metadata": {
        "id": "9jaQwybOoq8_"
      },
      "execution_count": null,
      "outputs": []
    },
    {
      "cell_type": "markdown",
      "source": [
        "#Example 1"
      ],
      "metadata": {
        "id": "vNXSzv2YpG43"
      }
    },
    {
      "cell_type": "code",
      "source": [
        "age = int(input(\"Enter your age: \"))\n",
        "\n",
        "if age >= 18:\n",
        "    print(\"You are eligible to vote.\")\n",
        "else:\n",
        "    print(\"You are not eligible to vote.\")\n",
        "    "
      ],
      "metadata": {
        "colab": {
          "base_uri": "https://localhost:8080/"
        },
        "id": "50aRV2RKpYSX",
        "outputId": "4c43e408-4329-4311-b234-fff56301885c"
      },
      "execution_count": 27,
      "outputs": [
        {
          "output_type": "stream",
          "name": "stdout",
          "text": [
            "Enter your age: 71\n",
            "You are eligible to vote.\n"
          ]
        }
      ]
    },
    {
      "cell_type": "markdown",
      "source": [
        "#Example 2"
      ],
      "metadata": {
        "id": "M8E6_ArypZTG"
      }
    },
    {
      "cell_type": "code",
      "source": [
        "number = float(input(\"Enter a number: \"))\n",
        "\n",
        "if number == 0:\n",
        "  print(\"Zero\")\n",
        "\n",
        "elif number >=1:\n",
        "  print(\"Positive\")\n",
        "\n",
        "else:\n",
        "  print(\"Negative\")"
      ],
      "metadata": {
        "colab": {
          "base_uri": "https://localhost:8080/"
        },
        "id": "Xwh1E3q9pban",
        "outputId": "61bbfe75-f1b0-4f58-d4b0-0fd83e0aefc2"
      },
      "execution_count": 39,
      "outputs": [
        {
          "output_type": "stream",
          "name": "stdout",
          "text": [
            "Enter a number: 0\n",
            "Zero\n"
          ]
        }
      ]
    },
    {
      "cell_type": "markdown",
      "source": [
        "#Example 3"
      ],
      "metadata": {
        "id": "fIgsci8vph1n"
      }
    },
    {
      "cell_type": "code",
      "source": [
        "grade = int(input(\"Enter your grade: \"))\n",
        "if grade < 0:\n",
        "  print(\"Invalid grade. Grades must be non-negative.\")\n",
        "  exit()\n",
        "if grade >= 70:\n",
        "  print(\"Passed\")\n",
        "elif grade <= 69 and grade >= 65:\n",
        "  print(\"Remedial\")\n",
        "elif grade <=65 and grade >=0:\n",
        "  print(\"Failed\")"
      ],
      "metadata": {
        "colab": {
          "base_uri": "https://localhost:8080/"
        },
        "id": "2km-1gs6pi9W",
        "outputId": "ba80f46a-016e-4d5a-e87d-55e1c0371a1b"
      },
      "execution_count": 3,
      "outputs": [
        {
          "output_type": "stream",
          "name": "stdout",
          "text": [
            "Enter your grade: 72\n",
            "Passed\n"
          ]
        }
      ]
    }
  ]
}