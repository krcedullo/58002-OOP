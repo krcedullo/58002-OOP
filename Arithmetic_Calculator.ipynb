{
  "nbformat": 4,
  "nbformat_minor": 0,
  "metadata": {
    "colab": {
      "provenance": [],
      "authorship_tag": "ABX9TyN20Awa2BBhX6poi67DHDGZ",
      "include_colab_link": true
    },
    "kernelspec": {
      "name": "python3",
      "display_name": "Python 3"
    },
    "language_info": {
      "name": "python"
    }
  },
  "cells": [
    {
      "cell_type": "markdown",
      "metadata": {
        "id": "view-in-github",
        "colab_type": "text"
      },
      "source": [
        "<a href=\"https://colab.research.google.com/github/russellcedullo/58002-OOP/blob/main/Arithmetic_Calculator.ipynb\" target=\"_parent\"><img src=\"https://colab.research.google.com/assets/colab-badge.svg\" alt=\"Open In Colab\"/></a>"
      ]
    },
    {
      "cell_type": "code",
      "execution_count": 1,
      "metadata": {
        "colab": {
          "base_uri": "https://localhost:8080/"
        },
        "id": "GhRkGvziDElQ",
        "outputId": "f0eeac9f-3112-453d-a272-04c0e6fe86e5"
      },
      "outputs": [
        {
          "output_type": "stream",
          "name": "stdout",
          "text": [
            "Select operation.\n",
            "1. Add\n",
            "2. Subtract\n",
            "3. Multiply\n",
            "4. Divide\n",
            "Enter choice(1/2/3/4): 1\n",
            "Enter first number: 51\n",
            "Enter second number: 120\n",
            "51 + 120 = 171\n"
          ]
        }
      ],
      "source": [
        "def add(a, b):\n",
        "    return a + b\n",
        "\n",
        "def subtract(a, b):\n",
        "    return a - b\n",
        "\n",
        "def multiply(a, b):\n",
        "    return a * b\n",
        "\n",
        "def divide(a, b):\n",
        "    return a / b\n",
        "\n",
        "print(\"Select operation.\")\n",
        "print(\"1. Add\")\n",
        "print(\"2. Subtract\")\n",
        "print(\"3. Multiply\")\n",
        "print(\"4. Divide\")\n",
        "\n",
        "choice = input(\"Enter choice(1/2/3/4): \")\n",
        "\n",
        "num1 = int(input(\"Enter first number: \"))\n",
        "num2 = int(input(\"Enter second number: \"))\n",
        "\n",
        "if choice == '1':\n",
        "    print(num1, \"+\", num2, \"=\", add(num1, num2))\n",
        "\n",
        "elif choice == '2':\n",
        "    print(num1, \"-\", num2, \"=\", subtract(num1, num2))\n",
        "\n",
        "elif choice == '3':\n",
        "    print(num1, \"*\", num2, \"=\", multiply(num1, num2))\n",
        "\n",
        "elif choice == '4':\n",
        "    print(num1, \"/\", num2, \"=\", divide(num1, num2))\n",
        "else:\n",
        "    print(\"Invalid Input\")\n"
      ]
    }
  ]
}