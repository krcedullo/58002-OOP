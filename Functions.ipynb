{
  "nbformat": 4,
  "nbformat_minor": 0,
  "metadata": {
    "colab": {
      "provenance": [],
      "authorship_tag": "ABX9TyM8sLdOqQt6a/gFOE5OrInQ",
      "include_colab_link": true
    },
    "kernelspec": {
      "name": "python3",
      "display_name": "Python 3"
    },
    "language_info": {
      "name": "python"
    }
  },
  "cells": [
    {
      "cell_type": "markdown",
      "metadata": {
        "id": "view-in-github",
        "colab_type": "text"
      },
      "source": [
        "<a href=\"https://colab.research.google.com/github/russellcedullo/58002-OOP/blob/main/Functions.ipynb\" target=\"_parent\"><img src=\"https://colab.research.google.com/assets/colab-badge.svg\" alt=\"Open In Colab\"/></a>"
      ]
    },
    {
      "cell_type": "markdown",
      "source": [
        "Variables and Data Types"
      ],
      "metadata": {
        "id": "QbIMlxb0zyqu"
      }
    },
    {
      "cell_type": "markdown",
      "source": [
        "Number\n"
      ],
      "metadata": {
        "id": "81C9zRfO1ks_"
      }
    },
    {
      "cell_type": "code",
      "source": [
        "varNum = 123\n",
        "\n",
        "pi = 3.14159"
      ],
      "metadata": {
        "id": "svhad64K1li_"
      },
      "execution_count": null,
      "outputs": []
    },
    {
      "cell_type": "markdown",
      "source": [
        "Strings"
      ],
      "metadata": {
        "id": "CBtcen2c1mfv"
      }
    },
    {
      "cell_type": "code",
      "source": [
        "varString = \"Hello World!\"\n",
        "\n",
        "varText = \"This is a string\""
      ],
      "metadata": {
        "id": "-NL7eEbu1umv"
      },
      "execution_count": null,
      "outputs": []
    },
    {
      "cell_type": "markdown",
      "source": [
        "Lists"
      ],
      "metadata": {
        "id": "hoP8uNAi1v-_"
      }
    },
    {
      "cell_type": "code",
      "source": [
        "varList = [\"abc\",123]"
      ],
      "metadata": {
        "id": "pBrB-vdX1xFW"
      },
      "execution_count": null,
      "outputs": []
    },
    {
      "cell_type": "markdown",
      "source": [
        "Tuples"
      ],
      "metadata": {
        "id": "5UOk0HSS15BX"
      }
    },
    {
      "cell_type": "code",
      "source": [
        "varTuple = [\"abc\", 123, \"HELLO\"]"
      ],
      "metadata": {
        "id": "_sU7y-FP17dm"
      },
      "execution_count": null,
      "outputs": []
    },
    {
      "cell_type": "markdown",
      "source": [
        "Dictionaries"
      ],
      "metadata": {
        "id": "-IUQJJvl1-P-"
      }
    },
    {
      "cell_type": "code",
      "source": [
        "var = 3\n",
        "\n",
        "varDict = {'first':1,'2':'2nd',3:var}\n",
        "\n",
        "varDict = {}\n",
        "\n",
        "varDict ['first'] = 1\n",
        "\n",
        "varDict ['2'] = '2nd'\n",
        "\n",
        "varDict [3] = var"
      ],
      "metadata": {
        "id": "ClroCEFI2AA3"
      },
      "execution_count": null,
      "outputs": []
    },
    {
      "cell_type": "markdown",
      "source": [
        "* Examples\n"
      ],
      "metadata": {
        "id": "CZpKN5sp2C-_"
      }
    },
    {
      "cell_type": "code",
      "source": [
        "class Shape:\n",
        "  def __init__(self, length, width):\n",
        "    self.length = length\n",
        "    self.width = width\n",
        "    \n",
        "  def area_rec(self):\n",
        "    return self.length * self.width\n",
        "   #def area_sqr(self,side):\n",
        "     # return self.side *self.side\n",
        "\n",
        "rectangle = Shape(10,5)\n",
        "rectangle.area_rec()"
      ],
      "metadata": {
        "colab": {
          "base_uri": "https://localhost:8080/"
        },
        "id": "Sf_5j9182bhn",
        "outputId": "29f8fe21-7556-4dff-becd-a54b950c60df"
      },
      "execution_count": 1,
      "outputs": [
        {
          "output_type": "execute_result",
          "data": {
            "text/plain": [
              "50"
            ]
          },
          "metadata": {},
          "execution_count": 1
        }
      ]
    },
    {
      "cell_type": "markdown",
      "source": [
        "Create a function that will display your full name and name your class as person"
      ],
      "metadata": {
        "id": "ppOQP8DW52Nc"
      }
    },
    {
      "cell_type": "code",
      "source": [
        "class Person:\n",
        "  def personal_details():\n",
        "    name, age = \"Cedullo, Kevin Russell H.\", 18\n",
        "    address = \"Makati City\"\n",
        "    print(\"Name: {}\\nAge: {}\\nAddress: {}\".format(name, age, address))\n",
        "\n",
        "  personal_details()\n",
        "\n"
      ],
      "metadata": {
        "colab": {
          "base_uri": "https://localhost:8080/"
        },
        "id": "UFsCQQck6NLE",
        "outputId": "fe84eb4b-aaba-47c5-fe4f-2ebb9f1fc5f1"
      },
      "execution_count": 15,
      "outputs": [
        {
          "output_type": "stream",
          "name": "stdout",
          "text": [
            "Name: Cedullo, Kevin Russell H.\n",
            "Age: 18\n",
            "Address: Makati City\n"
          ]
        }
      ]
    },
    {
      "cell_type": "code",
      "source": [
        "def name():\n",
        "  return \"Hartwell Walter White\"\n",
        "print(\"My name is \" + name())"
      ],
      "metadata": {
        "colab": {
          "base_uri": "https://localhost:8080/"
        },
        "id": "R_85IR4e9lqx",
        "outputId": "26afa875-71ce-4881-859b-0439d76e4bfc"
      },
      "execution_count": 20,
      "outputs": [
        {
          "output_type": "stream",
          "name": "stdout",
          "text": [
            "My name is Hartwell Walter White\n"
          ]
        }
      ]
    }
  ]
}