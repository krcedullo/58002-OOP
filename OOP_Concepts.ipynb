{
  "nbformat": 4,
  "nbformat_minor": 0,
  "metadata": {
    "colab": {
      "provenance": [],
      "authorship_tag": "ABX9TyPrig1ihBKuIoSOeoCAan1F",
      "include_colab_link": true
    },
    "kernelspec": {
      "name": "python3",
      "display_name": "Python 3"
    },
    "language_info": {
      "name": "python"
    }
  },
  "cells": [
    {
      "cell_type": "markdown",
      "metadata": {
        "id": "view-in-github",
        "colab_type": "text"
      },
      "source": [
        "<a href=\"https://colab.research.google.com/github/russellcedullo/58002-OOP/blob/main/OOP_Concepts.ipynb\" target=\"_parent\"><img src=\"https://colab.research.google.com/assets/colab-badge.svg\" alt=\"Open In Colab\"/></a>"
      ]
    },
    {
      "cell_type": "code",
      "execution_count": 9,
      "metadata": {
        "colab": {
          "base_uri": "https://localhost:8080/"
        },
        "id": "doa9cG2xuA1M",
        "outputId": "d5a191dc-418b-4d22-e907-23b545e73178"
      },
      "outputs": [
        {
          "output_type": "stream",
          "name": "stdout",
          "text": [
            "4\n"
          ]
        }
      ],
      "source": [
        "#Creation of Class\n",
        "\n",
        "class MyClass:  #Name of Class\n",
        "  y = 4         #Property name\n",
        "p1 = MyClass()    #For the creation of the object named p1\n",
        "print(p1.y)"
      ]
    },
    {
      "cell_type": "code",
      "source": [
        "class myclass:\n",
        "  pass"
      ],
      "metadata": {
        "id": "KWC3z5Uix4LQ"
      },
      "execution_count": 10,
      "outputs": []
    },
    {
      "cell_type": "code",
      "source": [
        "#Creation of Methods\n",
        "\n",
        "class Persons:\n",
        "  def __init__(self,name):\n",
        "    self.name = name\n",
        "    self.age = age\n",
        "    \n",
        "  def myfunction(self):\n",
        "    print(\"Hello, my name is \",self.name)\n",
        "\n",
        "teacher = Persons(\"Edwin Gatus\")\n",
        "teacher.myfunction()"
      ],
      "metadata": {
        "colab": {
          "base_uri": "https://localhost:8080/"
        },
        "id": "B5EEsejTyC8n",
        "outputId": "78d0d5f4-c686-44c8-ddcd-a5985132d54b"
      },
      "execution_count": 12,
      "outputs": [
        {
          "output_type": "stream",
          "name": "stdout",
          "text": [
            "Hello my name is  Edwin Gatus\n"
          ]
        }
      ]
    },
    {
      "cell_type": "code",
      "source": [
        "#Modification of Object Properties\n",
        "\n",
        "teacher.name = \"Edwin\"\n",
        "\n",
        "teacher.myfunction()\n"
      ],
      "metadata": {
        "colab": {
          "base_uri": "https://localhost:8080/"
        },
        "id": "5JdOrn5Czd9v",
        "outputId": "0725fdfa-a7d8-4f10-c965-892d3d99fd73"
      },
      "execution_count": 14,
      "outputs": [
        {
          "output_type": "stream",
          "name": "stdout",
          "text": [
            "Hello my name is  Edwin\n"
          ]
        }
      ]
    },
    {
      "cell_type": "code",
      "source": [
        "#Deletion of Object Properties\n",
        "\n",
        "print(teacher.name)"
      ],
      "metadata": {
        "colab": {
          "base_uri": "https://localhost:8080/"
        },
        "id": "KnpbCSxrz3Vm",
        "outputId": "2f44a111-da16-407b-b7f7-5d52eff7c174"
      },
      "execution_count": 19,
      "outputs": [
        {
          "output_type": "stream",
          "name": "stdout",
          "text": [
            "Edwin\n"
          ]
        }
      ]
    },
    {
      "cell_type": "code",
      "source": [
        "class Shapes:\n",
        "  def __init__(self,side):\n",
        "    self.side = side\n",
        "\n",
        "  def area(self):\n",
        "     return self.side *self.side\n",
        "  \n",
        "  def display(self):\n",
        "    print(\"The area of the square is\",self.area())\n",
        "\n",
        "square = Shapes(5)\n",
        "rectangle = Shapes()\n",
        "print(square.area())\n",
        "print(square.display())"
      ],
      "metadata": {
        "colab": {
          "base_uri": "https://localhost:8080/"
        },
        "id": "cgk1cCP80_Q3",
        "outputId": "f43bd2d0-5957-42d6-c8be-bcfe71fb8849"
      },
      "execution_count": 31,
      "outputs": [
        {
          "output_type": "stream",
          "name": "stdout",
          "text": [
            "25\n",
            "The area of the square is 25\n",
            "None\n"
          ]
        }
      ]
    },
    {
      "cell_type": "code",
      "source": [
        "#With rectangles\n",
        "class Shapes:\n",
        "    def __init__(self, side1, side2=None):\n",
        "        self.side1 = side1\n",
        "        self.side2 = side2\n",
        "\n",
        "    def area(self):\n",
        "        if self.side2 is None:  # Square\n",
        "            return self.side1 ** 2\n",
        "        else:  # Rectangle\n",
        "            return self.side1 * self.side2\n",
        "\n",
        "    def display(self):\n",
        "        if self.side2 is None:\n",
        "            print(\"The area of the square is\", self.area())\n",
        "        else:\n",
        "            print(\"The area of the rectangle is\", self.area())\n",
        "\n",
        "\n",
        "square = Shapes(5)\n",
        "rectangle = Shapes(5,10)\n",
        "\n",
        "square.display()  \n",
        "rectangle.display()  \n"
      ],
      "metadata": {
        "colab": {
          "base_uri": "https://localhost:8080/"
        },
        "id": "auNvN-mQ3vn5",
        "outputId": "81385a94-57fd-442d-b55e-1a77bb3bab50"
      },
      "execution_count": 35,
      "outputs": [
        {
          "output_type": "stream",
          "name": "stdout",
          "text": [
            "The area of the square is 25\n",
            "The area of the rectangle is 50\n"
          ]
        }
      ]
    },
    {
      "cell_type": "code",
      "source": [
        "#Using inheritance\n",
        "class Shape:\n",
        "    def __init__(self, *sides):\n",
        "        self.sides = sides\n",
        "\n",
        "    def area(self):\n",
        "        pass  # To be implemented by subclasses\n",
        "\n",
        "    def display(self):\n",
        "        pass  # To be implemented by subclasses\n",
        "\n",
        "\n",
        "class Square(Shape):\n",
        "    def __init__(self, side):\n",
        "        super().__init__(side)\n",
        "\n",
        "    def area(self):\n",
        "        return self.sides[0] ** 2\n",
        "\n",
        "    def display(self):\n",
        "        print(\"The area of the square is\", self.area())\n",
        "\n",
        "\n",
        "class Rectangle(Shape):\n",
        "    def __init__(self, length, width):\n",
        "        super().__init__(length, width)\n",
        "\n",
        "    def area(self):\n",
        "        return self.sides[0] * self.sides[1]\n",
        "\n",
        "    def display(self):\n",
        "        print(\"The area of the rectangle is\", self.area())\n",
        "\n",
        "\n",
        "square = Square(5)\n",
        "rectangle = Rectangle(5, 10)\n",
        "\n",
        "square.display()  # Output: The area of the square is 25\n",
        "rectangle.display()  # Output: The area of the rectangle is 50\n"
      ],
      "metadata": {
        "colab": {
          "base_uri": "https://localhost:8080/"
        },
        "id": "LMxtO90-7zwq",
        "outputId": "07cb3ace-db37-4356-dc45-c6cd3b87039a"
      },
      "execution_count": 36,
      "outputs": [
        {
          "output_type": "stream",
          "name": "stdout",
          "text": [
            "The area of the square is 25\n",
            "The area of the rectangle is 50\n"
          ]
        }
      ]
    },
    {
      "cell_type": "code",
      "source": [
        "\n",
        "class Person:\n",
        "    def __init__(self, name, age, school):\n",
        "        self.name = name\n",
        "        self.age = age\n",
        "        self.school = school\n",
        "\n",
        "    def identity(self):\n",
        "        print(\"Full name:\", self.name)\n",
        "        print(\"Age:\", self.age)\n",
        "        print(\"School:\", self.school)\n",
        "\n",
        "\n",
        "person = Person(\"Kevin Russell Cedullo\", 18, \"Adamson University\")\n",
        "person.identity()\n"
      ],
      "metadata": {
        "colab": {
          "base_uri": "https://localhost:8080/"
        },
        "id": "ucXpI03S-56a",
        "outputId": "1e5f6b98-8c27-435d-e92c-02b88363c61b"
      },
      "execution_count": 37,
      "outputs": [
        {
          "output_type": "stream",
          "name": "stdout",
          "text": [
            "Full name: Kevin Russell Cedullo\n",
            "Age: 18\n",
            "School: Adamson University\n"
          ]
        }
      ]
    }
  ]
}