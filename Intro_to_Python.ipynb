{
  "nbformat": 4,
  "nbformat_minor": 0,
  "metadata": {
    "colab": {
      "provenance": [],
      "toc_visible": true,
      "authorship_tag": "ABX9TyN63Kh4N1O5ibP0GaMqqTH8",
      "include_colab_link": true
    },
    "kernelspec": {
      "name": "python3",
      "display_name": "Python 3"
    },
    "language_info": {
      "name": "python"
    }
  },
  "cells": [
    {
      "cell_type": "markdown",
      "metadata": {
        "id": "view-in-github",
        "colab_type": "text"
      },
      "source": [
        "<a href=\"https://colab.research.google.com/github/russellcedullo/58002-OOP/blob/main/Intro_to_Python.ipynb\" target=\"_parent\"><img src=\"https://colab.research.google.com/assets/colab-badge.svg\" alt=\"Open In Colab\"/></a>"
      ]
    },
    {
      "cell_type": "code",
      "source": [
        "if 5 > 2:\n",
        "  print(\"Five is greater than two!\")\n",
        " "
      ],
      "metadata": {
        "colab": {
          "base_uri": "https://localhost:8080/"
        },
        "id": "b8yP9BYCwwTK",
        "outputId": "ba7e1a85-e70d-4e83-f649-88fb05557fc9"
      },
      "execution_count": null,
      "outputs": [
        {
          "output_type": "stream",
          "name": "stdout",
          "text": [
            "Five is greater than two\n"
          ]
        }
      ]
    },
    {
      "cell_type": "markdown",
      "source": [
        "Python Comment"
      ],
      "metadata": {
        "id": "G00YPxAyx2uS"
      }
    },
    {
      "cell_type": "code",
      "source": [
        "#This is a comment\n",
        "  print(\"Hello, World!\")\n",
        "    #Hello, World!"
      ],
      "metadata": {
        "id": "WxhnRRhVx40p"
      },
      "execution_count": null,
      "outputs": []
    },
    {
      "cell_type": "markdown",
      "source": [
        "Naming Variable\n"
      ],
      "metadata": {
        "id": "onO1ScnYyjaq"
      }
    },
    {
      "cell_type": "code",
      "source": [
        "#Single variable with single value\n",
        "x=1\n",
        "y=2 \n",
        "print(x)\n",
        "print(y)\n",
        "#To multiply variables with a single value\n",
        "\n",
        "a=b=c=\"Edwin Gatus\"\n",
        "#Multiple variables with a single value is accepted in python\n",
        "print(a)\n",
        "print(b)\n",
        "print(c)\n",
        "#Multiple variables with multiple values\n",
        "e,f,g=1,2,3\n",
        "print(e)\n",
        "print(f)\n",
        "print(g)\n",
        "\n",
        "u=\"jones\"\n",
        "v='jones'\n",
        "print(u)\n",
        "print(v)"
      ],
      "metadata": {
        "colab": {
          "base_uri": "https://localhost:8080/"
        },
        "id": "cF_I5UeXylBT",
        "outputId": "e4e665bf-d0c6-40c5-8dc6-7c34aac37a3e"
      },
      "execution_count": null,
      "outputs": [
        {
          "output_type": "stream",
          "name": "stdout",
          "text": [
            "1\n",
            "2\n",
            "Edwin Gatus\n",
            "Edwin Gatus\n",
            "Edwin Gatus\n",
            "1\n",
            "2\n",
            "3\n",
            "jones\n",
            "jones\n"
          ]
        }
      ]
    },
    {
      "cell_type": "code",
      "source": [],
      "metadata": {
        "id": "KBEQQQubyo_R"
      },
      "execution_count": null,
      "outputs": []
    },
    {
      "cell_type": "markdown",
      "source": [
        "Casting\n"
      ],
      "metadata": {
        "id": "Z8gNX8501pyL"
      }
    },
    {
      "cell_type": "code",
      "source": [
        "p=int(5)\n",
        "p"
      ],
      "metadata": {
        "colab": {
          "base_uri": "https://localhost:8080/"
        },
        "id": "iJp0Cs0-1tiK",
        "outputId": "73ed40fa-b77d-4ccf-9128-a1b5101e352d"
      },
      "execution_count": null,
      "outputs": [
        {
          "output_type": "execute_result",
          "data": {
            "text/plain": [
              "5"
            ]
          },
          "metadata": {},
          "execution_count": 19
        }
      ]
    },
    {
      "cell_type": "markdown",
      "source": [
        "Type () function\n",
        " = font size for texts in notes\n"
      ],
      "metadata": {
        "id": "Rlzo-q4617R7"
      }
    },
    {
      "cell_type": "code",
      "source": [
        "f= \"alan\"\n",
        "g=4.56\n",
        "print(type(f))\n",
        "print(type(g))"
      ],
      "metadata": {
        "colab": {
          "base_uri": "https://localhost:8080/"
        },
        "id": "ljBTnCLw2FFj",
        "outputId": "23f7e1c0-49c7-436d-e2a1-117bfb0d5ae6"
      },
      "execution_count": null,
      "outputs": [
        {
          "output_type": "stream",
          "name": "stdout",
          "text": [
            "<class 'str'>\n",
            "<class 'float'>\n"
          ]
        }
      ]
    },
    {
      "cell_type": "markdown",
      "source": [
        "Contenation using + symbol"
      ],
      "metadata": {
        "id": "FASHfph-3GKc"
      }
    },
    {
      "cell_type": "code",
      "source": [
        "k= \"enjoying\"\n",
        "j=\"Python Programming is \"\n",
        "print(\"Python programming is \"+k)\n",
        "print(j+k)\n"
      ],
      "metadata": {
        "colab": {
          "base_uri": "https://localhost:8080/"
        },
        "id": "w4a8-gBb3KAt",
        "outputId": "e31aa407-94db-4a81-d459-d3b5df3cbd18"
      },
      "execution_count": null,
      "outputs": [
        {
          "output_type": "stream",
          "name": "stdout",
          "text": [
            "Python programming is enjoying\n",
            "Python Programming is enjoying\n"
          ]
        }
      ]
    }
  ]
}