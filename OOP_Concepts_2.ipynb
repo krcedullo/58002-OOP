{
  "nbformat": 4,
  "nbformat_minor": 0,
  "metadata": {
    "colab": {
      "provenance": [],
      "authorship_tag": "ABX9TyPojj4mGIKchLDHTK2q9Zna",
      "include_colab_link": true
    },
    "kernelspec": {
      "name": "python3",
      "display_name": "Python 3"
    },
    "language_info": {
      "name": "python"
    }
  },
  "cells": [
    {
      "cell_type": "markdown",
      "metadata": {
        "id": "view-in-github",
        "colab_type": "text"
      },
      "source": [
        "<a href=\"https://colab.research.google.com/github/russellcedullo/58002-OOP/blob/main/OOP_Concepts_2.ipynb\" target=\"_parent\"><img src=\"https://colab.research.google.com/assets/colab-badge.svg\" alt=\"Open In Colab\"/></a>"
      ]
    },
    {
      "cell_type": "markdown",
      "source": [
        "1. Create a pyhton program that displays the name of three students (Student 1, Student 2, and Student 3.\n",
        "2. Create a class name Person and attributes - std1,std2,std3, prelim midterm final\n",
        "3. Compute the average of each term grade using Grade() method, prelim+midterm+final/3\n",
        "4. Information about student's grades must be hidden from others.\n",
        "\n",
        "\n"
      ],
      "metadata": {
        "id": "RrfJz7T3CcS7"
      }
    },
    {
      "cell_type": "code",
      "execution_count": 28,
      "metadata": {
        "colab": {
          "base_uri": "https://localhost:8080/"
        },
        "id": "thbXAium_stY",
        "outputId": "c110a48e-1865-43a4-ec1f-e86610c62f5c"
      },
      "outputs": [
        {
          "output_type": "stream",
          "name": "stdout",
          "text": [
            "Enter student number (1-3): 3\n",
            "Student 3:\n",
            "Prelim: 90\n",
            "Midterm: 94\n",
            "Finals: 91\n",
            "Average: 91.66666666666667\n"
          ]
        }
      ],
      "source": [
        "class Person:\n",
        "    def __init__(self, std1, std2, std3, prelim, midterm, finals):\n",
        "        self.__std1 = std1\n",
        "        self.__std2 = std2\n",
        "        self.__std3 = std3\n",
        "        self.__prelim = prelim\n",
        "        self.__midterm = midterm\n",
        "        self.__finals = finals\n",
        "# get the average grade of all 3 terms by adding it and dividing by 3\n",
        "    def get_average(self):\n",
        "        return (self.__prelim + self.__midterm + self.__finals) / 3\n",
        "\n",
        "# create 3 instances of Person class with random grade generator\n",
        "std1 = Person(99, 80, 95, 85, 92, 88)\n",
        "std2 = Person(70, 85, 80, 75, 78, 80)\n",
        "std3 = Person(95, 88, 92, 90, 94, 91)\n",
        "\n",
        "# prompt user to input student number\n",
        "student_num = input(\"Enter student number (1, 2, or 3): \")\n",
        "\n",
        "# display the name and term grades for the selected student\n",
        "if student_num == \"1\":\n",
        "    print(\"Student 1:\")\n",
        "    print(\"Prelim:\", std1._Person__prelim)\n",
        "    print(\"Midterm:\", std1._Person__midterm)\n",
        "    print(\"Finals:\", std1._Person__finals)\n",
        "    print(\"Average:\", std1.get_average())\n",
        "elif student_num == \"2\":\n",
        "    print(\"Student 2:\")\n",
        "    print(\"Prelim:\", std2._Person__prelim)\n",
        "    print(\"Midterm:\", std2._Person__midterm)\n",
        "    print(\"Finals:\", std2._Person__finals)\n",
        "    print(\"Average:\", std2.get_average())\n",
        "elif student_num == \"3\":\n",
        "    print(\"Student 3:\")\n",
        "    print(\"Prelim:\", std3._Person__prelim)\n",
        "    print(\"Midterm:\", std3._Person__midterm)\n",
        "    print(\"Finals:\", std3._Person__finals)\n",
        "    print(\"Average:\", std3.get_average())\n",
        "else:\n",
        "    print(\"Invalid student number.\")\n"
      ]
    }
  ]
}