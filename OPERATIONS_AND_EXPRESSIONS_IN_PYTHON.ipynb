{
  "nbformat": 4,
  "nbformat_minor": 0,
  "metadata": {
    "colab": {
      "provenance": [],
      "authorship_tag": "ABX9TyNbwL3JneOz/Xca0+y0Z2d7",
      "include_colab_link": true
    },
    "kernelspec": {
      "name": "python3",
      "display_name": "Python 3"
    },
    "language_info": {
      "name": "python"
    }
  },
  "cells": [
    {
      "cell_type": "markdown",
      "metadata": {
        "id": "view-in-github",
        "colab_type": "text"
      },
      "source": [
        "<a href=\"https://colab.research.google.com/github/russellcedullo/58002-OOP/blob/main/OPERATIONS_AND_EXPRESSIONS_IN_PYTHON.ipynb\" target=\"_parent\"><img src=\"https://colab.research.google.com/assets/colab-badge.svg\" alt=\"Open In Colab\"/></a>"
      ]
    },
    {
      "cell_type": "markdown",
      "source": [
        "Booleans represent one or two values.\n",
        "\n",
        "True or False"
      ],
      "metadata": {
        "id": "-FPzEC_7zHN4"
      }
    },
    {
      "cell_type": "markdown",
      "source": [
        "When you evaluate two values, The Python will evaluate and return the Boolean answer\n",
        "\n",
        "*   Comparison / Relational\n",
        "*   Logical\n",
        "*   Identity\n",
        "\n"
      ],
      "metadata": {
        "id": "7B8hZ-dnzMIH"
      }
    },
    {
      "cell_type": "code",
      "source": [
        "print(10>9)\n",
        "print(10==9)\n",
        "print(10<9)\n",
        "\n",
        "a = 10\n",
        "b = 9\n",
        "print(a>b)\n",
        "print(a<b)\n",
        "print(a==b)\n",
        "print(b==b)"
      ],
      "metadata": {
        "colab": {
          "base_uri": "https://localhost:8080/"
        },
        "id": "r2XyNLE0zalP",
        "outputId": "19e09517-c72d-456e-8948-a480aad7a468"
      },
      "execution_count": 4,
      "outputs": [
        {
          "output_type": "stream",
          "name": "stdout",
          "text": [
            "True\n",
            "False\n",
            "False\n",
            "True\n",
            "False\n",
            "False\n",
            "True\n"
          ]
        }
      ]
    },
    {
      "cell_type": "markdown",
      "source": [
        "Bool (Function)"
      ],
      "metadata": {
        "id": "nwH9_5ov1GAZ"
      }
    },
    {
      "cell_type": "code",
      "source": [
        "print(bool(1))\n",
        "print(bool(\"Edwin Gatus\"))\n",
        "print(bool(0))\n",
        "print(bool(None))\n",
        "print(bool[])"
      ],
      "metadata": {
        "id": "TqQgYpOG1AYq"
      },
      "execution_count": null,
      "outputs": []
    },
    {
      "cell_type": "markdown",
      "source": [
        "The bool function allows you to evaluate any value and give you True or False in return.\n"
      ],
      "metadata": {
        "id": "owPp68ZIzkxX"
      }
    },
    {
      "cell_type": "code",
      "source": [
        "print(bool(\"Hello\"))\n",
        "print(bool(15))"
      ],
      "metadata": {
        "colab": {
          "base_uri": "https://localhost:8080/"
        },
        "id": "pnfa5dnSztkf",
        "outputId": "60827c22-3421-42a9-ad5c-ff82575d0604"
      },
      "execution_count": 1,
      "outputs": [
        {
          "output_type": "stream",
          "name": "stdout",
          "text": [
            "True\n",
            "True\n"
          ]
        }
      ]
    },
    {
      "cell_type": "markdown",
      "source": [
        "Python can also return a Boolean / Functions can return a boolean\n",
        "\n",
        "\n",
        "\n",
        "\n"
      ],
      "metadata": {
        "id": "M_8OTYWr1gYC"
      }
    },
    {
      "cell_type": "code",
      "source": [
        "def myFunction(): \n",
        "    return True\n",
        "  print(myFunction())\n"
      ],
      "metadata": {
        "id": "cPiLHnAn1jaC"
      },
      "execution_count": null,
      "outputs": []
    },
    {
      "cell_type": "code",
      "source": [
        "def myFunction():\n",
        "    return True\n",
        "if myFunction():\n",
        "  print(\"Yes!\")\n",
        "else:\n",
        "  print(\"No!\")"
      ],
      "metadata": {
        "colab": {
          "base_uri": "https://localhost:8080/"
        },
        "id": "98iZTr2P3QB8",
        "outputId": "2d376edb-d0ab-4cdf-ead1-729af45cd59d"
      },
      "execution_count": 19,
      "outputs": [
        {
          "output_type": "stream",
          "name": "stdout",
          "text": [
            "Yes!\n"
          ]
        }
      ]
    },
    {
      "cell_type": "markdown",
      "source": [
        "Python can also execute based on your answer"
      ],
      "metadata": {
        "id": "2SP2MDYm3SqC"
      }
    },
    {
      "cell_type": "code",
      "source": [
        "print(10>9)\n",
        "a=6\n",
        "b=7\n",
        "print(a==b)\n",
        "print(a!=a)"
      ],
      "metadata": {
        "colab": {
          "base_uri": "https://localhost:8080/"
        },
        "id": "N_BjAfV03ZKc",
        "outputId": "26e20524-48c3-499c-cba5-d60232976ed3"
      },
      "execution_count": 22,
      "outputs": [
        {
          "output_type": "stream",
          "name": "stdout",
          "text": [
            "True\n",
            "False\n",
            "False\n"
          ]
        }
      ]
    },
    {
      "cell_type": "markdown",
      "source": [
        "Python Operators are used to perform operations on variables and value.\n",
        "\n",
        "* In the example below, use the r operator add together two values:"
      ],
      "metadata": {
        "id": "Tloqn_SH3xEL"
      }
    },
    {
      "cell_type": "code",
      "source": [
        "print(10+5)\n",
        "print(10-5)\n",
        "print(10%5)\n",
        "print(10//3)\n",
        "print(10/3)\n",
        "print(10**2)\n",
        "print(10*5)\n",
        "print(10^2)"
      ],
      "metadata": {
        "colab": {
          "base_uri": "https://localhost:8080/"
        },
        "id": "cd6Io2na33SL",
        "outputId": "7b69afb8-ad68-4796-f21a-8e0e0317ff31"
      },
      "execution_count": 28,
      "outputs": [
        {
          "output_type": "stream",
          "name": "stdout",
          "text": [
            "15\n",
            "5\n",
            "0\n",
            "3\n",
            "3.3333333333333335\n",
            "100\n",
            "50\n",
            "8\n"
          ]
        }
      ]
    },
    {
      "cell_type": "markdown",
      "source": [
        "Python Bitwise Operators\n",
        "* Bitwise operators work on bits and performs bit by bit operation. Assume if a = 60, and b = 13, Now in binary format they will be as follows"
      ],
      "metadata": {
        "id": "vJV8nDvU54oe"
      }
    },
    {
      "cell_type": "code",
      "source": [
        "a = 60\n",
        "b = 13\n",
        "a >> 1\n",
        "\n"
      ],
      "metadata": {
        "colab": {
          "base_uri": "https://localhost:8080/"
        },
        "id": "1rHTbAbG6Hg2",
        "outputId": "978e5377-5cc4-4577-c2d3-4db4dc4a1fcc"
      },
      "execution_count": 40,
      "outputs": [
        {
          "output_type": "execute_result",
          "data": {
            "text/plain": [
              "30"
            ]
          },
          "metadata": {},
          "execution_count": 40
        }
      ]
    },
    {
      "cell_type": "markdown",
      "source": [
        "Python Assignment Operators"
      ],
      "metadata": {
        "id": "FwXYqhQi-GZ_"
      }
    },
    {
      "cell_type": "code",
      "source": [
        "x=0\n",
        "x+=3 #same as x = x + 3\n",
        "x-=3 #same as x = x - 3\n",
        "x*=3 #same as x = x * 3\n",
        "x/=3 #same as x = x / 3\n",
        "x%=3 #same as x = x % 3\n"
      ],
      "metadata": {
        "colab": {
          "base_uri": "https://localhost:8080/"
        },
        "id": "8Y5Ugqr4-Ihv",
        "outputId": "146699ea-97f0-4ebb-a9ca-e54f1284ce01"
      },
      "execution_count": 44,
      "outputs": [
        {
          "output_type": "stream",
          "name": "stdout",
          "text": [
            "0\n",
            "3\n",
            "0\n",
            "0\n",
            "0.0\n",
            "0.0\n"
          ]
        }
      ]
    },
    {
      "cell_type": "markdown",
      "source": [
        "Logical Operators\n"
      ],
      "metadata": {
        "id": "r3TQ9cuyASrK"
      }
    },
    {
      "cell_type": "code",
      "source": [
        "\n",
        "x=True\n",
        "y=False"
      ],
      "metadata": {
        "colab": {
          "base_uri": "https://localhost:8080/"
        },
        "id": "t1W7dRThAUGJ",
        "outputId": "c0b00575-b928-4e20-85fd-7701244a9835"
      },
      "execution_count": 46,
      "outputs": [
        {
          "output_type": "stream",
          "name": "stdout",
          "text": [
            "True\n"
          ]
        }
      ]
    },
    {
      "cell_type": "code",
      "source": [
        "print(x)\n"
      ],
      "metadata": {
        "colab": {
          "base_uri": "https://localhost:8080/"
        },
        "id": "Wgu61mEpAqca",
        "outputId": "dca6bcb2-44d1-4732-85ba-a68b7d7d6201"
      },
      "execution_count": 48,
      "outputs": [
        {
          "output_type": "stream",
          "name": "stdout",
          "text": [
            "True\n"
          ]
        }
      ]
    },
    {
      "cell_type": "code",
      "source": [
        "print(x and y)\n",
        "print(x or y)\n",
        "print(not(x or y))"
      ],
      "metadata": {
        "colab": {
          "base_uri": "https://localhost:8080/"
        },
        "id": "-guxWAfSAu6y",
        "outputId": "d8f46239-d428-4304-d0a5-5dee1aa15010"
      },
      "execution_count": 49,
      "outputs": [
        {
          "output_type": "stream",
          "name": "stdout",
          "text": [
            "False\n",
            "True\n",
            "False\n"
          ]
        }
      ]
    },
    {
      "cell_type": "markdown",
      "source": [
        "Identity Operators"
      ],
      "metadata": {
        "id": "_EnwEzMKBB-5"
      }
    },
    {
      "cell_type": "code",
      "source": [
        "print(x is y)\n",
        "print(x is not y)\n"
      ],
      "metadata": {
        "colab": {
          "base_uri": "https://localhost:8080/"
        },
        "id": "N0hsEKQBBDbQ",
        "outputId": "59b7280d-5e76-4ae3-986d-c2724eb1fda1"
      },
      "execution_count": 50,
      "outputs": [
        {
          "output_type": "stream",
          "name": "stdout",
          "text": [
            "False\n",
            "True\n"
          ]
        }
      ]
    },
    {
      "cell_type": "markdown",
      "source": [
        "Application 1 Create an arithmetic calculator "
      ],
      "metadata": {
        "id": "mmJ8DBDjCB5F"
      }
    },
    {
      "cell_type": "code",
      "source": [
        "def add(a, b):\n",
        "    return a + b\n",
        "\n",
        "def subtract(a, b):\n",
        "    return a - b\n",
        "\n",
        "def multiply(a, b):\n",
        "    return a * b\n",
        "\n",
        "def divide(a, b):\n",
        "    return a / b\n",
        "print(\"Select operation:\")\n",
        "print(\"1. Add\")\n",
        "print(\"2. Subtract\")\n",
        "print(\"3. Multiply\")\n",
        "print(\"4. Divide\")\n",
        "2\n",
        "operation = input(\"Enter operation(+,-,*,/): \")\n",
        "\n",
        "num1 = float(input(\"Enter first number: \"))\n",
        "num2 = float(input(\"Enter second number: \"))\n",
        "\n",
        "if operation == '+':\n",
        "    print(num1, \"+\", num2, \"=\", add(num1, num2))\n",
        "\n",
        "elif operation == '-':\n",
        "    print(num1, \"-\", num2, \"=\", subtract(num1, num2))\n",
        "\n",
        "elif operation == '*':\n",
        "    print(num1, \"*\", num2, \"=\", multiply(num1, num2))\n",
        "\n",
        "elif operation == '/':\n",
        "    print(num1, \"/\", num2, \"=\", divide(num1, num2))\n",
        "else:\n",
        "    print(\"Invalid Input\")\n"
      ],
      "metadata": {
        "id": "4jmGGa1oLs0F"
      },
      "execution_count": null,
      "outputs": []
    }
  ]
}